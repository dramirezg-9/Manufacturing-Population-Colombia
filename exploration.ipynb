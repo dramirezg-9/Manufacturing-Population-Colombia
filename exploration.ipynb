{
 "cells": [
  {
   "cell_type": "code",
   "execution_count": null,
   "metadata": {},
   "outputs": [],
   "source": [
    "%pip install numpy pandas openpyxl matplotlib seaborn plotly folium"
   ]
  },
  {
   "cell_type": "code",
   "execution_count": null,
   "metadata": {},
   "outputs": [],
   "source": [
    "import numpy as np\n",
    "import pandas as pd\n",
    "from matplotlib import pyplot as plt\n",
    "import seaborn as sns"
   ]
  },
  {
   "cell_type": "markdown",
   "metadata": {},
   "source": [
    "Codes of Departaments (Administrative divisions of Colombia):\n",
    "\n",
    "https://geoportal.dane.gov.co/descargas/divipola/DIVIPOLA_Departamentos.xlsx"
   ]
  },
  {
   "cell_type": "code",
   "execution_count": null,
   "metadata": {},
   "outputs": [],
   "source": [
    "divipola = pd.read_excel('DIVIPOLA_Departamentos.xlsx', skiprows=8,header=1).dropna()\n",
    "divipola['Código'] = divipola['Código'].astype('uint8')\n",
    "divipola.set_index('Código',inplace=True)\n",
    "dpto_names = divipola['Nombre'].to_dict()\n",
    "dpto_lat = divipola['LATITUD'].to_dict()\n",
    "dpto_lon = divipola['LONGITUD'].to_dict()"
   ]
  },
  {
   "cell_type": "markdown",
   "metadata": {},
   "source": [
    "Population per Department:\n",
    "https://en.wikipedia.org/wiki/List_of_Colombian_departments_by_population"
   ]
  },
  {
   "cell_type": "code",
   "execution_count": null,
   "metadata": {},
   "outputs": [],
   "source": [
    "poblacion_dpto = pd.read_csv('población.csv')\n",
    "poblacion_dpto['Department'] = poblacion_dpto['Department'].str.upper()\n",
    "poblacion_dpto['CODE'] = poblacion_dpto['Department'].map({v:k for k,v in dpto_names.items()})\n",
    "poblacion_dpto.loc[0,'CODE'] = 11\n",
    "poblacion_dpto.loc[28,'CODE'] = 88\n",
    "poblacion_dpto['CODE'] = poblacion_dpto['CODE'].astype('uint8')\n",
    "poblacion_dpto.set_index('CODE',inplace=True)"
   ]
  },
  {
   "cell_type": "markdown",
   "metadata": {},
   "source": [
    "Encuesta Anual Manufacturera (Annual Industry Survey):\n",
    "\n",
    "2018: https://microdatos.dane.gov.co/index.php/catalog/650/download/12432\n",
    "\n",
    "2019: https://microdatos.dane.gov.co/index.php/catalog/694/download/14186\n",
    "\n",
    "2020: https://microdatos.dane.gov.co/index.php/catalog/724/download/20937\n",
    "\n",
    "2021: https://microdatos.dane.gov.co/index.php/catalog/802/download/22877"
   ]
  },
  {
   "cell_type": "code",
   "execution_count": null,
   "metadata": {},
   "outputs": [],
   "source": [
    "\n",
    "def get_industry_employees(file_path: str, delimiter: str):\n",
    "    eam = pd.read_csv(file_path, delimiter=delimiter)\n",
    "    eam = eam[[\"nordemp\",\"nordest\", \"ciiu4\", \"dpto\", \"c4r4c9t\",\"c4r4c10t\"]]\n",
    "    industry_employees = eam.groupby(\"dpto\").aggregate({'c4r4c9t': 'sum','c4r4c10t': 'sum'})\n",
    "    return industry_employees\n",
    "\n",
    "file_format = \"EAM_{0}.csv\"\n",
    "years = [2018,2019,2020,2021]\n",
    "delimiters = [';',';',',',',']\n",
    "industry_employees = {}\n",
    "for year, delimiter in zip(years, delimiters):\n",
    "    industry_employees[year] = get_industry_employees(file_format.format(year), delimiter)"
   ]
  },
  {
   "cell_type": "code",
   "execution_count": null,
   "metadata": {},
   "outputs": [],
   "source": [
    "for year in years:\n",
    "    industry_employees[2021][f\"Mujeres {year}\"] = industry_employees[year][\"c4r4c9t\"]\n",
    "    industry_employees[2021][f\"Hombres {year}\"] = industry_employees[year][\"c4r4c10t\"]\n",
    "industry_employees = industry_employees[2021].drop([\"c4r4c9t\",\"c4r4c10t\"],axis=1)"
   ]
  },
  {
   "cell_type": "code",
   "execution_count": null,
   "metadata": {},
   "outputs": [],
   "source": [
    "industry_employees[\"DEPARTAMENTO\"] = industry_employees.index.map(dpto_names)\n",
    "industry_employees[\"LATITUD\"] = industry_employees.index.map(dpto_lat)\n",
    "industry_employees[\"LONGITUD\"] = industry_employees.index.map(dpto_lon)\n",
    "industry_employees[\"Población\"] = poblacion_dpto[\"Population (2020)\"]\n",
    "industry_employees[\"Porcentaje\"] = (industry_employees['Hombres 2021']+industry_employees['Mujeres 2021']) / industry_employees[\"Población\"]"
   ]
  },
  {
   "cell_type": "code",
   "execution_count": null,
   "metadata": {},
   "outputs": [],
   "source": [
    "from plotly import express as px\n",
    "format_col = '{} {}'\n",
    "\n",
    "def empleados_dpto(cod: int):\n",
    "    hombres_dpto = industry_employees.loc[cod,[format_col.format(\"Hombres\",year) for year in years]]\n",
    "    hombres_dpto.rename({format_col.format(\"Hombres\",year): year for year in years}, inplace=True)\n",
    "    mujeres_dpto = industry_employees.loc[cod,[format_col.format(\"Mujeres\",year) for year in years]]\n",
    "    mujeres_dpto.rename({format_col.format(\"Mujeres\",year): year for year in years}, inplace=True)\n",
    "    return pd.DataFrame([hombres_dpto.rename('Men'),mujeres_dpto.rename('Women')]).T\n",
    "\n",
    "def dpto_popup(cod: int):\n",
    "    df = empleados_dpto(cod)\n",
    "    title = f\"{industry_employees.loc[cod,'DEPARTAMENTO']}: Employees in Manufacturing\"\n",
    "    fig = px.bar(df, color_discrete_sequence=['blue','magenta'],\n",
    "                 labels={'index': 'Year','value':'Employees','variable': 'Gender'},\n",
    "                 barmode='group', title=title)\n",
    "    return fig\n",
    "\n",
    "for cod in industry_employees.index:\n",
    "    fig = dpto_popup(cod)\n",
    "    fig.update_layout(margin=dict(t=30,l=10,b=10,r=10))\n",
    "    fig.write_html(f\"bar_charts/{cod}.html\", include_plotlyjs='cdn') # include_plotly makes map.html much lighter and loast faster.\n"
   ]
  },
  {
   "cell_type": "code",
   "execution_count": null,
   "metadata": {},
   "outputs": [],
   "source": [
    "min_employed = industry_employees['Porcentaje'].min()\n",
    "max_employed = industry_employees['Porcentaje'].max()"
   ]
  },
  {
   "cell_type": "markdown",
   "metadata": {},
   "source": [
    "Colombia GeoJson: https://gist.github.com/john-guerra/43c7656821069d00dcbc"
   ]
  },
  {
   "cell_type": "code",
   "execution_count": null,
   "metadata": {},
   "outputs": [],
   "source": [
    "import folium\n",
    "from branca.colormap import linear\n",
    "from branca.element import IFrame\n",
    "\n",
    "colormap = linear.YlGn_09.scale(\n",
    "    0, max_employed * 100\n",
    ")\n",
    "\n",
    "def make_style(feature: dict):\n",
    "    cod = int(feature[\"properties\"][\"DPTO\"])\n",
    "    if cod in industry_employees.index:\n",
    "        c = colormap(industry_employees.loc[cod,'Porcentaje'] * 100)\n",
    "    else:\n",
    "        c= colormap(0)\n",
    "    return {\"fillColor\": c, \"weight\":1, \"fillOpacity\": 0.9}\n",
    "\n",
    "\n",
    "loc = 'Population in Colombia Employed by Manufacturing Industry'\n",
    "title_html = f'''\n",
    "             <h3 align=\"center\" style=\"font-size:16px\"><b>{loc}</b></h3>\n",
    "             ''' \n",
    "\n",
    "m = folium.Map(location=(4.570868, -74.297333),zoom_start=5, tiles=\"cartodb positron\")\n",
    "folium.GeoJson('Colombia.geo.json', style_function=make_style).add_to(m)\n",
    "colormap.caption =\"Percentage of the Population Employed (2021)\"\n",
    "colormap.add_to(m)\n",
    "for cod in industry_employees.index:\n",
    "    filepath = f\"bar_charts/{cod}.html\"\n",
    "    with open(filepath , encoding='utf-8') as f:\n",
    "        html = f.read()\n",
    "    iframe = IFrame(html=html, width=500, height=300)\n",
    "    popup = folium.Popup(iframe, max_width=500)\n",
    "    folium.Marker([industry_employees.loc[cod,\"LATITUD\"],industry_employees.loc[cod,\"LONGITUD\"]],\n",
    "                  popup=popup).add_to(m)\n",
    "\n",
    "\n",
    "m.get_root().html.add_child(folium.Element(title_html))\n",
    "m.save('map.html')"
   ]
  }
 ],
 "metadata": {
  "kernelspec": {
   "display_name": "Python 3 (ipykernel)",
   "language": "python",
   "name": "python3"
  },
  "language_info": {
   "codemirror_mode": {
    "name": "ipython",
    "version": 3
   },
   "file_extension": ".py",
   "mimetype": "text/x-python",
   "name": "python",
   "nbconvert_exporter": "python",
   "pygments_lexer": "ipython3",
   "version": "3.12.1"
  }
 },
 "nbformat": 4,
 "nbformat_minor": 4
}
